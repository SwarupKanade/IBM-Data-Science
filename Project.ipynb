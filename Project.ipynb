{
  "metadata": {
    "kernelspec": {
      "name": "python",
      "display_name": "Python (Pyodide)",
      "language": "python"
    },
    "language_info": {
      "codemirror_mode": {
        "name": "python",
        "version": 3
      },
      "file_extension": ".py",
      "mimetype": "text/x-python",
      "name": "python",
      "nbconvert_exporter": "python",
      "pygments_lexer": "ipython3",
      "version": "3.8"
    }
  },
  "nbformat_minor": 4,
  "nbformat": 4,
  "cells": [
    {
      "cell_type": "markdown",
      "source": "# My Jupyter Notebook on IBM Data Science Experience",
      "metadata": {}
    },
    {
      "cell_type": "markdown",
      "source": "__Swarup Kanade__\n- CS Student and Programmer",
      "metadata": {}
    },
    {
      "cell_type": "markdown",
      "source": "*I am interested in data science because I do study Computer Engineering and would like to be in data analysis.*",
      "metadata": {}
    },
    {
      "cell_type": "markdown",
      "source": "### Calculate the sum of 1 plus 1",
      "metadata": {}
    },
    {
      "cell_type": "code",
      "source": "1 + 1",
      "metadata": {},
      "execution_count": 4,
      "outputs": [
        {
          "execution_count": 4,
          "output_type": "execute_result",
          "data": {
            "text/plain": [
              "2"
            ]
          },
          "metadata": {}
        }
      ]
    },
    {
      "cell_type": "markdown",
      "source": "1. Hello\n2. Everyone",
      "metadata": {}
    },
    {
      "cell_type": "markdown",
      "source": "____________________",
      "metadata": {}
    },
    {
      "cell_type": "markdown",
      "source": "- this\n- is\n- ~~not~~\n- Polong",
      "metadata": {}
    },
    {
      "cell_type": "markdown",
      "source": "| Student | Grade |\n| ---   | ---  |\n| John Smith | 90 |\n| Jane Doe | 95 |\n",
      "metadata": {}
    }
  ]
}
